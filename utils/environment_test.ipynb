{
 "cells": [
  {
   "cell_type": "code",
   "execution_count": 1,
   "metadata": {},
   "outputs": [
    {
     "name": "stderr",
     "output_type": "stream",
     "text": [
      "2023-06-12 15:12:11.330010: W tensorflow/stream_executor/platform/default/dso_loader.cc:60] Could not load dynamic library 'libcudart.so.11.0'; dlerror: libcudart.so.11.0: cannot open shared object file: No such file or directory; LD_LIBRARY_PATH: /opt/ros/noetic/lib::/home/kh-ryu/.mujoco/mujoco200/bin\n",
      "2023-06-12 15:12:11.330028: I tensorflow/stream_executor/cuda/cudart_stub.cc:29] Ignore above cudart dlerror if you do not have a GPU set up on your machine.\n"
     ]
    }
   ],
   "source": [
    "from garage.envs import GymEnv\n",
    "import gym\n",
    "import numpy as np"
   ]
  },
  {
   "cell_type": "code",
   "execution_count": 2,
   "metadata": {},
   "outputs": [
    {
     "name": "stderr",
     "output_type": "stream",
     "text": [
      "/home/kh-ryu/anaconda3/envs/surprise/lib/python3.8/site-packages/gym/spaces/box.py:73: UserWarning: \u001b[33mWARN: Box bound precision lowered by casting to float32\u001b[0m\n",
      "  logger.warn(\n"
     ]
    }
   ],
   "source": [
    "# env = gym.make('CartPole-v1')\n",
    "student_env = GymEnv('SparseHalfCheetahLimited-v2')"
   ]
  },
  {
   "cell_type": "code",
   "execution_count": 3,
   "metadata": {},
   "outputs": [
    {
     "data": {
      "text/plain": [
       "Box([-0.8 -0.8 -0.8 -0.8 -0.8 -0.8], [0.8 0.8 0.8 0.8 0.8 0.8], (6,), float32)"
      ]
     },
     "execution_count": 3,
     "metadata": {},
     "output_type": "execute_result"
    }
   ],
   "source": [
    "student_env.action_space"
   ]
  },
  {
   "cell_type": "code",
   "execution_count": 5,
   "metadata": {},
   "outputs": [
    {
     "data": {
      "text/plain": [
       "[0]"
      ]
     },
     "execution_count": 5,
     "metadata": {},
     "output_type": "execute_result"
    }
   ],
   "source": [
    "student_env.seed(0)"
   ]
  },
  {
   "cell_type": "code",
   "execution_count": 6,
   "metadata": {},
   "outputs": [
    {
     "data": {
      "text/plain": [
       "(array([ 0.09307819,  0.02653819, -0.04199653, -0.07950315,  0.03461527,\n",
       "        -0.02148465,  0.03396921, -0.08803221, -0.0572751 ,  0.00336234,\n",
       "        -0.00317337,  0.04092179,  0.05138554,  0.01490225, -0.04298223,\n",
       "         0.18408469, -0.00426755]),\n",
       " {})"
      ]
     },
     "execution_count": 6,
     "metadata": {},
     "output_type": "execute_result"
    }
   ],
   "source": [
    "student_env.reset()"
   ]
  },
  {
   "cell_type": "code",
   "execution_count": 7,
   "metadata": {},
   "outputs": [
    {
     "data": {
      "text/plain": [
       "array([ 0.06325024, -0.05809922,  0.17893613,  0.21352236,  0.27692149,\n",
       "        0.25006369,  0.20446423,  0.14140779,  1.04049294, -0.98866255,\n",
       "       -2.35847982,  7.1019102 ,  7.24173569,  6.31255845,  7.38003616,\n",
       "        5.02561432,  6.63598017])"
      ]
     },
     "execution_count": 7,
     "metadata": {},
     "output_type": "execute_result"
    }
   ],
   "source": [
    "result = student_env.step([1.0, 1.0, 1.0, 1.0, 1.0, 1.0])\n",
    "result.observation"
   ]
  },
  {
   "cell_type": "code",
   "execution_count": 8,
   "metadata": {},
   "outputs": [
    {
     "data": {
      "text/plain": [
       "[0]"
      ]
     },
     "execution_count": 8,
     "metadata": {},
     "output_type": "execute_result"
    }
   ],
   "source": [
    "student_env.seed(0)"
   ]
  },
  {
   "cell_type": "code",
   "execution_count": 9,
   "metadata": {},
   "outputs": [
    {
     "data": {
      "text/plain": [
       "(array([ 0.09307819,  0.02653819, -0.04199653, -0.07950315,  0.03461527,\n",
       "        -0.02148465,  0.03396921, -0.08803221, -0.0572751 ,  0.00336234,\n",
       "        -0.00317337,  0.04092179,  0.05138554,  0.01490225, -0.04298223,\n",
       "         0.18408469, -0.00426755]),\n",
       " {})"
      ]
     },
     "execution_count": 9,
     "metadata": {},
     "output_type": "execute_result"
    }
   ],
   "source": [
    "student_env.reset()"
   ]
  },
  {
   "cell_type": "code",
   "execution_count": 10,
   "metadata": {},
   "outputs": [
    {
     "data": {
      "text/plain": [
       "array([ 0.06325024, -0.05809922,  0.17893613,  0.21352236,  0.27692149,\n",
       "        0.25006369,  0.20446423,  0.14140779,  1.04049294, -0.98866255,\n",
       "       -2.35847982,  7.1019102 ,  7.24173569,  6.31255845,  7.38003616,\n",
       "        5.02561432,  6.63598017])"
      ]
     },
     "execution_count": 10,
     "metadata": {},
     "output_type": "execute_result"
    }
   ],
   "source": [
    "result = student_env.step([0.8, 0.8, 0.8, 0.8, 0.8, 0.8])\n",
    "result.observation"
   ]
  },
  {
   "cell_type": "code",
   "execution_count": null,
   "metadata": {},
   "outputs": [],
   "source": [
    "env.action_space"
   ]
  }
 ],
 "metadata": {
  "kernelspec": {
   "display_name": "surprise",
   "language": "python",
   "name": "python3"
  },
  "language_info": {
   "codemirror_mode": {
    "name": "ipython",
    "version": 3
   },
   "file_extension": ".py",
   "mimetype": "text/x-python",
   "name": "python",
   "nbconvert_exporter": "python",
   "pygments_lexer": "ipython3",
   "version": "3.8.16"
  },
  "orig_nbformat": 4
 },
 "nbformat": 4,
 "nbformat_minor": 2
}
